{
 "cells": [
  {
   "cell_type": "markdown",
   "metadata": {},
   "source": [
    "# Deep Feedward Networks\n",
    "## Learning XOR"
   ]
  },
  {
   "cell_type": "code",
   "execution_count": 3,
   "metadata": {},
   "outputs": [
    {
     "data": {
      "image/png": "[encoded data removed]",
      "text/plain": [
       "<matplotlib.figure.Figure at 0x817df98>"
      ]
     },
     "metadata": {},
     "output_type": "display_data"
    }
   ],
   "source": [
    "%matplotlib inline\n",
    "import numpy as np\n",
    "import matplotlib.pyplot as plt\n",
    "\n",
    "X = np.array([[0, 0], [0, 1], [1, 0], [1, 1]])\n",
    "Y = np.array([0, 1, 1, 0])[:, None]\n",
    "b = np.ones([4, 1])\n",
    "\n",
    "plt.figure(\"XOR\")\n",
    "plt.scatter(X[:,0], X[:,1])\n",
    "for index, point in enumerate(X):\n",
    "    plt.text(point[0], point[1], str(Y[index,0]))"
   ]
  },
  {
   "cell_type": "code",
   "execution_count": 4,
   "metadata": {},
   "outputs": [
    {
     "data": {
      "text/plain": [
       "array([[ 0.5],\n",
       "       [ 0. ],\n",
       "       [ 0. ]])"
      ]
     },
     "execution_count": 4,
     "metadata": {},
     "output_type": "execute_result"
    }
   ],
   "source": [
    "# linear function : y = wX + b\n",
    "# add bias column for X\n",
    "X_ = np.column_stack((b, X))\n",
    "# normal equation\n",
    "theta = np.dot(np.linalg.inv(np.dot(X_.T, X_)), np.dot(X_.T, Y))\n",
    "theta"
   ]
  },
  {
   "cell_type": "markdown",
   "metadata": {},
   "source": [
    "So weights are [[0], [0]] and bias is [[0.5]], linear function turn to y = 0.5, it's obvious wrong for all the four points. Let's introduce feed forward netwoks to solve this problem.\n",
    "\n",
    "Add one hidden layer by activation function Relu(Rectified linear unit), it's default recommendation in modern neural networks.\n",
    "\n",
    "It's definition is:\n",
    "    \n",
    "    g(z) = max{0, z}\n",
    "    \n",
    "Now we can get the new formula to fit XOR:\n",
    "    \n",
    "    fx_1 = w_1*X + b_1\n",
    "    hx = Relu(fx_1) = max{0, w_1*X + b_1}\n",
    "    fx_2 = w_2*hx + b_2 = w_2*max{0, w_1*X + b_1} + b_2"
   ]
  },
  {
   "cell_type": "code",
   "execution_count": 5,
   "metadata": {},
   "outputs": [
    {
     "data": {
      "text/plain": [
       "[<matplotlib.lines.Line2D at 0xc7b6748>]"
      ]
     },
     "execution_count": 5,
     "metadata": {},
     "output_type": "execute_result"
    },
    {
     "data": {
      "image/png": "[encoded data removed]",
      "text/plain": [
       "<matplotlib.figure.Figure at 0xce9bc18>"
      ]
     },
     "metadata": {},
     "output_type": "display_data"
    }
   ],
   "source": [
    "# Relu\n",
    "plt.figure('Relu')\n",
    "temp_x = np.linspace(-5, 5, 20, dtype='int8')\n",
    "temp_y = temp_x * (temp_x > 0)  \n",
    "plt.plot(temp_x, temp_y)"
   ]
  },
  {
   "cell_type": "code",
   "execution_count": 6,
   "metadata": {},
   "outputs": [
    {
     "data": {
      "text/plain": [
       "array([[ True],\n",
       "       [ True],\n",
       "       [ True],\n",
       "       [ True]], dtype=bool)"
      ]
     },
     "execution_count": 6,
     "metadata": {},
     "output_type": "execute_result"
    }
   ],
   "source": [
    "# specify weights and bias directly\n",
    "w_1 = np.array([[1, 1], [1, 1]])\n",
    "w_2 = np.array([1, -2])\n",
    "b_1 = np.array([0, -1])\n",
    "b_2 = 0\n",
    "\n",
    "fx_1 = np.dot(X, w_1) + b_1\n",
    "hx = fx_1 * (fx_1 > 0) # relu\n",
    "fx_2 = np.dot(hx, w_2[:,None]) + b_2\n",
    "fx_2 == Y"
   ]
  },
  {
   "cell_type": "code",
   "execution_count": 7,
   "metadata": {},
   "outputs": [
    {
     "data": {
      "text/plain": [
       "<matplotlib.collections.PathCollection at 0xcecbc18>"
      ]
     },
     "execution_count": 7,
     "metadata": {},
     "output_type": "execute_result"
    },
    {
     "data": {
      "image/png": "[encoded data removed]",
      "text/plain": [
       "<matplotlib.figure.Figure at 0xce0ae48>"
      ]
     },
     "metadata": {},
     "output_type": "display_data"
    }
   ],
   "source": [
    "plt.figure('transformed-space')\n",
    "plt.scatter(hx[:,0], hx[:,1])"
   ]
  },
  {
   "cell_type": "markdown",
   "metadata": {},
   "source": [
    "## Maximum Likelihood Estimation\n",
    "[cross-entropy](https://en.wikipedia.org/wiki/Cross_entropy)\n",
    "\n",
    "<img src=\"../pic/mle.jpg\" width = \"500\" height = \"300\" alt=\"formula\" align=center/>\n",
    "\n",
    "## Back-Propagation\n",
    "A simple version according to the [course](https://www.coursera.org/learn/machine-learning/home/welcome) of Andrew Ng."
   ]
  },
  {
   "cell_type": "code",
   "execution_count": 8,
   "metadata": {},
   "outputs": [
    {
     "data": {
      "text/plain": [
       "<matplotlib.collections.PathCollection at 0xc7fbfd0>"
      ]
     },
     "execution_count": 8,
     "metadata": {},
     "output_type": "execute_result"
    },
    {
     "data": {
      "image/png": "[encoded data removed]",
      "text/plain": [
       "<matplotlib.figure.Figure at 0xb058f28>"
      ]
     },
     "metadata": {},
     "output_type": "display_data"
    }
   ],
   "source": [
    "learning_rate = 0.001\n",
    "x_train = np.array([[1, 2], [2, 1], [2, 3], [3, 5], [1, 3], [4, 2], [7, 3], [4, 5], [11, 3], [8, 7]])\n",
    "y_train = np.array([7, 8, 10, 14, 8, 13, 20, 16, 28, 26])\n",
    "\n",
    "w = np.random.normal(size=(1,2))\n",
    "b = 1\n",
    "loss_r = []\n",
    "\n",
    "def loss():\n",
    "    return np.linalg.norm(np.dot(w, x_train.T) + b - y_train) / 2\n",
    "\n",
    "for i in range(10):\n",
    "    w_delta = np.dot(y_train - np.dot(w, x_train.T) + b, x_train)\n",
    "    b_delta = np.sum(y_train - np.dot(w, x_train.T) + b )\n",
    "\n",
    "    w += learning_rate * w_delta\n",
    "    b += learning_rate * b_delta\n",
    "    loss_r.append(loss())\n",
    "\n",
    "prediction = np.dot(w, x_train.T) + b\n",
    "plt.figure('golden_vs_prediction')\n",
    "plt.scatter(x_train[:,0], y_train)\n",
    "plt.scatter(x_train[:,0], prediction.reshape(10,1))"
   ]
  },
  {
   "cell_type": "code",
   "execution_count": 9,
   "metadata": {},
   "outputs": [
    {
     "data": {
      "text/plain": [
       "[<matplotlib.lines.Line2D at 0xc843a90>]"
      ]
     },
     "execution_count": 9,
     "metadata": {},
     "output_type": "execute_result"
    },
    {
     "data": {
      "image/png": "[encoded data removed]",
      "text/plain": [
       "<matplotlib.figure.Figure at 0xceafb00>"
      ]
     },
     "metadata": {},
     "output_type": "display_data"
    }
   ],
   "source": [
    "plt.figure('loss')\n",
    "plt.plot(range(10), loss_r)"
   ]
  },
  {
   "cell_type": "markdown",
   "metadata": {},
   "source": [
    "A simple implementation of tensorflow [mnist-softmax tutorial](https://www.tensorflow.org/get_started/mnist/beginners). There are two blogs about softmax derivative and loss calculation in [here](http://eli.thegreenplace.net/2016/the-softmax-function-and-its-derivative/) and [here](https://zhuanlan.zhihu.com/p/27223959). And the [assignment1](http://cs224d.stanford.edu/assignment1/index.html) from css224n for nlp is pretty awesome for beginer, the complete code can be found [here](https://github.com/AppleFairy/CS224n-Natural-Language-Processing-with-Deep-Learning/tree/master/assignment/assignment1)."
   ]
  },
  {
   "cell_type": "code",
   "execution_count": 10,
   "metadata": {},
   "outputs": [
    {
     "name": "stdout",
     "output_type": "stream",
     "text": [
      "Extracting ../data/mnist\\train-images-idx3-ubyte.gz\n",
      "Extracting ../data/mnist\\train-labels-idx1-ubyte.gz\n",
      "Extracting ../data/mnist\\t10k-images-idx3-ubyte.gz\n",
      "Extracting ../data/mnist\\t10k-labels-idx1-ubyte.gz\n",
      "step 0 accuracy=0.109375\n",
      "step 5000 accuracy=0.7578125\n",
      "step 10000 accuracy=0.828125\n",
      "step 15000 accuracy=0.796875\n",
      "step 20000 accuracy=0.84375\n",
      "step 25000 accuracy=0.84375\n",
      "step 30000 accuracy=0.8828125\n",
      "step 35000 accuracy=0.8828125\n",
      "step 40000 accuracy=0.859375\n",
      "step 45000 accuracy=0.8671875\n",
      "step 50000 accuracy=0.8828125\n",
      "step 55000 accuracy=0.84375\n",
      "step 60000 accuracy=0.8984375\n",
      "step 65000 accuracy=0.8828125\n",
      "step 70000 accuracy=0.8203125\n",
      "step 75000 accuracy=0.859375\n",
      "step 80000 accuracy=0.9375\n",
      "step 85000 accuracy=0.8984375\n",
      "step 90000 accuracy=0.9140625\n",
      "step 95000 accuracy=0.9296875\n",
      "step 100000 accuracy=0.859375\n"
     ]
    },
    {
     "data": {
      "image/png": "[encoded data removed]",
      "text/plain": [
       "<matplotlib.figure.Figure at 0xc852eb8>"
      ]
     },
     "metadata": {},
     "output_type": "display_data"
    },
    {
     "data": {
      "text/plain": [
       "<matplotlib.figure.Figure at 0xce9fe10>"
      ]
     },
     "metadata": {},
     "output_type": "display_data"
    }
   ],
   "source": [
    "%run ../example/mnist_mlp_simple.py"
   ]
  }
 ],
 "metadata": {
  "kernelspec": {
   "display_name": "Python 3",
   "language": "python",
   "name": "python3"
  },
  "language_info": {
   "codemirror_mode": {
    "name": "ipython",
    "version": 3
   },
   "file_extension": ".py",
   "mimetype": "text/x-python",
   "name": "python",
   "nbconvert_exporter": "python",
   "pygments_lexer": "ipython3",
   "version": "3.6.2"
  }
 },
 "nbformat": 4,
 "nbformat_minor": 2
}
