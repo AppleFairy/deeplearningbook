{
 "cells": [
  {
   "cell_type": "markdown",
   "metadata": {},
   "source": [
    "# Deep Feedward Networks\n",
    "## Learning XOR"
   ]
  },
  {
   "cell_type": "code",
   "execution_count": 43,
   "metadata": {},
   "outputs": [
    {
     "data": {
      "image/png": "[encoded data removed]",
      "text/plain": [
       "<matplotlib.figure.Figure at 0x8d644a8>"
      ]
     },
     "metadata": {},
     "output_type": "display_data"
    }
   ],
   "source": [
    "%matplotlib inline\n",
    "import numpy as np\n",
    "import matplotlib.pyplot as plt\n",
    "\n",
    "X = np.array([[0, 0], [0, 1], [1, 0], [1, 1]])\n",
    "Y = np.array([0, 1, 1, 0])[:, None]\n",
    "b = np.ones([4, 1])\n",
    "\n",
    "plt.figure(\"XOR\")\n",
    "plt.scatter(X[:,0], X[:,1])\n",
    "for index, point in enumerate(X):\n",
    "    plt.text(point[0], point[1], str(Y[index,0]))"
   ]
  },
  {
   "cell_type": "code",
   "execution_count": 44,
   "metadata": {},
   "outputs": [
    {
     "data": {
      "text/plain": [
       "array([[ 0.5],\n",
       "       [ 0. ],\n",
       "       [ 0. ]])"
      ]
     },
     "execution_count": 44,
     "metadata": {},
     "output_type": "execute_result"
    }
   ],
   "source": [
    "# linear function : y = wX + b\n",
    "# add bias column for X\n",
    "X = np.column_stack((b, X))\n",
    "# normal equation\n",
    "theta = np.dot(np.linalg.inv(np.dot(X.T, i)), np.dot(X.T, Y))\n",
    "theta"
   ]
  },
  {
   "cell_type": "markdown",
   "metadata": {},
   "source": [
    "So weights are [[0], [0]] and bias is [[0.5]], linear function turn to y = 0.5, it's obvious wrong for all the four points. Let's introduce feed forward netwoks to solve this problem.\n",
    "\n",
    "Add one hidden layer by activation function Relu(Rectified linear unit), it's default recommendation in modern neural networks.\n",
    "\n",
    "It's definition is:\n",
    "    \n",
    "    g(z) = max{0, z}\n",
    "    \n",
    "Now we can get the new formula to fit XOR:\n",
    "    \n",
    "    fx_1 = w_1*X + b_1\n",
    "    hx = Relu(fx_1) = max{0, w_1*X + b_1}\n",
    "    fx_2 = w_2*hx + b_2 = w_2*max{0, w_1*X + b_1} + b_2"
   ]
  },
  {
   "cell_type": "code",
   "execution_count": 85,
   "metadata": {},
   "outputs": [
    {
     "data": {
      "text/plain": [
       "[<matplotlib.lines.Line2D at 0x8e5fba8>]"
      ]
     },
     "execution_count": 85,
     "metadata": {},
     "output_type": "execute_result"
    },
    {
     "data": {
      "image/png": "[encoded data removed]",
      "text/plain": [
       "<matplotlib.figure.Figure at 0x8dd4c18>"
      ]
     },
     "metadata": {},
     "output_type": "display_data"
    }
   ],
   "source": [
    "# Relu\n",
    "plt.figure('Relu')\n",
    "temp_x = np.linspace(-5, 5, 20, dtype='int8')\n",
    "temp_y = temp_x * (temp_x > 0)  \n",
    "plt.plot(temp_x, temp_y)"
   ]
  },
  {
   "cell_type": "code",
   "execution_count": 86,
   "metadata": {},
   "outputs": [
    {
     "data": {
      "text/plain": [
       "array([[ True],\n",
       "       [ True],\n",
       "       [ True],\n",
       "       [ True]], dtype=bool)"
      ]
     },
     "execution_count": 86,
     "metadata": {},
     "output_type": "execute_result"
    }
   ],
   "source": [
    "# specify weights and bias directly\n",
    "w_1 = np.array([[1, 1], [1, 1]])\n",
    "w_2 = np.array([1, -2])\n",
    "b_1 = np.array([0, -1])\n",
    "b_2 = 0\n",
    "\n",
    "fx_1 = np.dot(X, w_1) + b_1\n",
    "hx = fx_1 * (fx_1 > 0) # relu\n",
    "fx_2 = np.dot(hx, w_2[:,None]) + b_2\n",
    "fx_2 == Y"
   ]
  },
  {
   "cell_type": "code",
   "execution_count": 87,
   "metadata": {},
   "outputs": [
    {
     "data": {
      "text/plain": [
       "<matplotlib.collections.PathCollection at 0x8ee55c0>"
      ]
     },
     "execution_count": 87,
     "metadata": {},
     "output_type": "execute_result"
    },
    {
     "data": {
      "image/png": "[encoded data removed]",
      "text/plain": [
       "<matplotlib.figure.Figure at 0x8e29f28>"
      ]
     },
     "metadata": {},
     "output_type": "display_data"
    }
   ],
   "source": [
    "plt.figure('transformed-space')\n",
    "plt.scatter(hx[:,0], hx[:,1])"
   ]
  },
  {
   "cell_type": "markdown",
   "metadata": {},
   "source": [
    "## Gradient-Based Learning"
   ]
  },
  {
   "cell_type": "code",
   "execution_count": null,
   "metadata": {
    "collapsed": true
   },
   "outputs": [],
   "source": []
  }
 ],
 "metadata": {
  "kernelspec": {
   "display_name": "Python 3",
   "language": "python",
   "name": "python3"
  },
  "language_info": {
   "codemirror_mode": {
    "name": "ipython",
    "version": 3
   },
   "file_extension": ".py",
   "mimetype": "text/x-python",
   "name": "python",
   "nbconvert_exporter": "python",
   "pygments_lexer": "ipython3",
   "version": "3.6.2"
  }
 },
 "nbformat": 4,
 "nbformat_minor": 2
}
