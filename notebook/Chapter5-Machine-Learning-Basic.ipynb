{
 "cells": [
  {
   "cell_type": "markdown",
   "metadata": {},
   "source": [
    "# Machine learning basic\n",
    "    Machine learning: A computer program is said to learn from experience E with respect to some class of tasks T and performance measure P , if its performance at tasks in T , as measured by P , improves with experience E.\n",
    "## Linear Regression\n",
    "Fit formula: y_ = w<sup>T</sup>x<br/>\n",
    "\n",
    "Normal equation: w = (x<sup>T</sup>x)<sup>-1</sup>x<sup>T</sup>y\n",
    "\n",
    "* Task T: to predict y from x by outputting y_ = w<sup>T</sup>x. \n",
    "* Performance P: Mean squared error\n"
   ]
  },
  {
   "cell_type": "code",
   "execution_count": 67,
   "metadata": {},
   "outputs": [
    {
     "data": {
      "text/plain": [
       "[<matplotlib.lines.Line2D at 0x93a8fd0>]"
      ]
     },
     "execution_count": 67,
     "metadata": {},
     "output_type": "execute_result"
    },
    {
     "data": {
      "image/png": "[encoded data removed]",
      "text/plain": [
       "<matplotlib.figure.Figure at 0x9c90c50>"
      ]
     },
     "metadata": {},
     "output_type": "display_data"
    }
   ],
   "source": [
    "%matplotlib inline\n",
    "import numpy as np\n",
    "import matplotlib.pyplot as plt\n",
    "\n",
    "x = np.array([-0.5, -0.4, -0.3, -0.3, -0.2, 0.1, 0.3, 0.4, 0.5, 0.6]).reshape(10,1)\n",
    "y = np.array([-1.4, -1.1, -1.0, -0.4, 0.1, 0.4, -0.2, 0.0, 0.3, 1.0]).reshape(10,1)\n",
    "plt.figure(\"data\")\n",
    "w = np.dot(np.linalg.inv(np.dot(x.T, x)), np.dot(x.T,y))\n",
    "\n",
    "plt.scatter(x,y)\n",
    "plt.plot(x, w * x)"
   ]
  },
  {
   "cell_type": "code",
   "execution_count": 68,
   "metadata": {},
   "outputs": [
    {
     "data": {
      "text/plain": [
       "array([[ 1.51333333]])"
      ]
     },
     "execution_count": 68,
     "metadata": {},
     "output_type": "execute_result"
    }
   ],
   "source": [
    "w"
   ]
  }
 ],
 "metadata": {
  "kernelspec": {
   "display_name": "Python 3",
   "language": "python",
   "name": "python3"
  },
  "language_info": {
   "codemirror_mode": {
    "name": "ipython",
    "version": 3
   },
   "file_extension": ".py",
   "mimetype": "text/x-python",
   "name": "python",
   "nbconvert_exporter": "python",
   "pygments_lexer": "ipython3",
   "version": "3.6.2"
  }
 },
 "nbformat": 4,
 "nbformat_minor": 2
}
